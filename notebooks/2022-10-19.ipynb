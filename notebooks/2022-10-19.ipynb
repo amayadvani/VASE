{
 "cells": [
  {
   "cell_type": "markdown",
   "metadata": {},
   "source": [
    "# Project \n",
    "- toc: true \n",
    "- badges: true\n",
    "- comments: true"
   ]
  },
  {
   "cell_type": "code",
   "execution_count": 1,
   "metadata": {},
   "outputs": [
    {
     "name": "stdout",
     "output_type": "stream",
     "text": [
      "Feeling a little under the weather? Tell us your symptoms to receive an accurate diagnosis and prescription!\n",
      "Based on your current symptoms, your mostly likely sickness is the flu.\n"
     ]
    }
   ],
   "source": [
    "#Opening welcome to users\n",
    "print(\n",
    "  \"Feeling a little under the weather? Tell us your symptoms to receive an accurate diagnosis and prescription!\"\n",
    ")\n",
    "\n",
    "# possible symptoms that the user can check mark\n",
    "symptoms_database = [\n",
    "  \"Cough\", \"Sore throat\", \"Headache\", \"Fever\", \"Muscle pain\", \"Stomach ache\",\n",
    "  \"Congested nose\", \"Runny nose\", \"Painful coughing\", \"Swollen mouth\",\n",
    "  \"Swollen face\", \"Pimples\", \"Sneezing\", \"Vomiting\", \"Fatigue\", \"Sore Throat\",\n",
    "  \"Itchy Eyes\", \"Watery Eyes\", \"Mucus\", \"Ear Pain\", \"Increased heart rate\",\n",
    "  \"Hyperventilation\", \"Sweating\", \"Trembling\", \"Bleeding\", \"Discharge\",\n",
    "  \"Insomnia\", \"Agitation\", \"Depression\", \"Anxiety\", \"Paranoia\", \"Hallucination\"\n",
    "]\n",
    "\n",
    "# assuming user check boxes fever, runny nose, and headache & different\n",
    "user_symptoms = [0, 3, 7]\n",
    "\n",
    "# diseases database (dictionary)\n",
    "sickness_database = {\n",
    "  \"acute Bronchitis\": ['Cough', 'Mucus'],\n",
    "  \"allergy\": ['Runny nose', 'Sneezing', 'Itchy Eyes', 'Watery Eyes'],\n",
    "  \"anxiety\":\n",
    "  ['Increased heart rate', 'Hyperventilation', 'Sweating', 'Trembling'],\n",
    "  \"brain Cancer\": ['Headache', 'Blurred vision'],\n",
    "  \"chlamydia\": ['Bleeding', 'Discharge'],\n",
    "  \"COVID-19\": ['Fever', 'Sore throat', 'Runny nose'],\n",
    "  \"depression\": ['Fatigue', 'Imsomnia', 'Agitation'],\n",
    "  \"diarrhea\": ['Fever', 'Cramps', 'Bloating', 'Nausea', 'Vomiting'],\n",
    "  \"ear infection\": ['Fever', 'Ear Pain'],\n",
    "  \"endometriosis\": ['Stomache ache', 'Bleeding'],\n",
    "  \"fibromyalgia\": ['Fatigue', 'Depression', 'Anxiety', 'Insomnia', 'Headache'],\n",
    "  \"flu\": ['Fever', 'Cough', 'Runny nose'],\n",
    "  \"lupus\": ['Fatigue', 'Fever'],\n",
    "  \"lyme disease\": ['Fever', 'Fatigue', 'Headache'],\n",
    "  \"mononucleosis\": ['Fatigue', 'Fever', 'Sore Throat', 'Headache'],\n",
    "  \"pink eye\": ['Runny nose', 'Blurred vision'],\n",
    "  \"pneumonia\": ['Cough', 'Fatigue', 'Fever', 'Nausea', 'Vomiting'],\n",
    "  \"schizophrenia\": ['Anxiety', 'Paranoia', 'Hallucination'],\n",
    "}\n",
    "\n",
    "# initialize match result for all sicknesses\n",
    "match_result_array = [0] * 18\n",
    "\n",
    "# iterate through each symptom in each disease\n",
    "match_disease_index = 0\n",
    "max_match_result = 0\n",
    "max_match_result_disease = \"\"\n",
    "for key, values in sickness_database.items():\n",
    "  for value in values:\n",
    "    for i in user_symptoms:\n",
    "      user_symptom = symptoms_database[i]\n",
    "      if value == user_symptom:\n",
    "        match_result_array[match_disease_index] = match_result_array[match_disease_index] + 1\n",
    "        break\n",
    "  if match_result_array[match_disease_index] > max_match_result:\n",
    "    max_match_result = match_result_array[match_disease_index]\n",
    "    max_match_result_disease = key\n",
    "  match_disease_index = match_disease_index + 1\n",
    "\n",
    "print(\"Based on your current symptoms, your mostly likely sickness is the \" +\n",
    "      max_match_result_disease + \".\")\n"
   ]
  }
 ],
 "metadata": {
  "kernelspec": {
   "display_name": "Python 3.8.10 64-bit",
   "language": "python",
   "name": "python3"
  },
  "language_info": {
   "codemirror_mode": {
    "name": "ipython",
    "version": 3
   },
   "file_extension": ".py",
   "mimetype": "text/x-python",
   "name": "python",
   "nbconvert_exporter": "python",
   "pygments_lexer": "ipython3",
   "version": "3.8.10"
  },
  "orig_nbformat": 4,
  "vscode": {
   "interpreter": {
    "hash": "916dbcbb3f70747c44a77c7bcd40155683ae19c65e1c03b4aa3499c5328201f1"
   }
  }
 },
 "nbformat": 4,
 "nbformat_minor": 2
}

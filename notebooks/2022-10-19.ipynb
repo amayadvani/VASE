{
 "cells": [
  {
   "cell_type": "markdown",
   "metadata": {},
   "source": [
    "# Project \n",
    "- toc: true \n",
    "- badges: true\n",
    "- comments: true"
   ]
  },
  {
   "cell_type": "code",
   "execution_count": 10,
   "metadata": {},
   "outputs": [
    {
     "name": "stdout",
     "output_type": "stream",
     "text": [
      "Based on your current symptoms, your mostly likely sickness is the flu.\n"
     ]
    }
   ],
   "source": [
    "# possible symptoms that user can check mark\n",
    "symptoms_database  = [\"fever\", \"cough\", \"runny nose\", \"headache\", \"blurred vision\", \"sore throat\"]\n",
    "\n",
    "# assuming user check boxes fever, runny nose, and headache & different \n",
    "user_symptoms = [0, 2, 3]\n",
    "\n",
    "# diseases database (dictionary)\n",
    "sickness_database = {\n",
    "    \"flu\": ['fever', 'cough', 'runny nose'],\n",
    "    \"COVID\": ['fever', 'sore throat', 'runny nose'],\n",
    "    \"brain Cancer\": ['headache', 'blurred vision']\n",
    "}\n",
    "\n",
    "# initialize match result for all sicknesses\n",
    "match_result_array = [0] * 3\n",
    "\n",
    "# iterate through each symptom in each disease \n",
    "match_disease_index = 0 \n",
    "max_match_result = 0 \n",
    "max_match_result_disease = \"\"\n",
    "for key, values in sickness_database.items():\n",
    "    for value in values:\n",
    "        for i in user_symptoms:\n",
    "            symptom = symptoms_database[i]\n",
    "            if value == symptom:\n",
    "                #j --> disease\n",
    "                match_result_array[match_disease_index] = match_result_array[match_disease_index] + 1 \n",
    "                break\n",
    "    #check next sickness\n",
    "    if match_result_array[match_disease_index] > max_match_result:\n",
    "        max_match_result = match_result_array[match_disease_index]\n",
    "        max_match_result_disease = key\n",
    "    match_disease_index = match_disease_index + 1\n",
    "\n",
    "print(\"Based on your current symptoms, your mostly likely sickness is the \" + max_match_result_disease + \".\")"
   ]
  },
  {
   "cell_type": "code",
   "execution_count": 13,
   "metadata": {},
   "outputs": [
    {
     "name": "stdout",
     "output_type": "stream",
     "text": [
      "Feeling a little under the weather? Tell us your symptoms to recieve an accurate diagnosis and prescription!\n",
      "Based on your current symptoms, your mostly likely sickness is the Mononucleosis.\n"
     ]
    }
   ],
   "source": [
    "#Opening welcome to users\n",
    "print(\"Feeling a little under the weather? Tell us your symptoms to recieve an accurate diagnosis and prescription!\")\n",
    "\n",
    "# possible symptoms that user can check mark\n",
    "symptoms_database  = [\"Coughing\",\"Sore throat\",\"Headache\",\"Fever\", \"Muscle pain\",\"Stomach ache\",\"Congested nose\",\"Runny nose\",\"Swollen mouth\",\"Swollen face\",\"Pimples\",\"Sneezing\",\"Vomiting\",\"Fatigue\",\"Sore Throat\",\"Itchy eyes\",\"Watery eyes\"]\n",
    "\n",
    "# assuming user check boxes fever, runny nose, and headache & different \n",
    "user_symptoms = [0, 2, 3]\n",
    "\n",
    "# diseases database (dictionary)\n",
    "sickness_database = {\n",
    "    \"Flu\": ['Fever', 'Cough', 'Runny nose'],\n",
    "    \"COVID\": ['Fever', 'Sore throat', 'Runny nose'],\n",
    "    \"Brain Cancer\": ['Headache', 'Blurred vision'],\n",
    "    \"Pink Eye\": ['Runny nose', 'Blurred vision'],\n",
    "    \"Diarrhea\": ['Fever', 'Cramps', 'Bloating', 'Nausea', 'Vomiting'],\n",
    "    \"Mononucleosis\": ['Fatigue', 'Fever', 'Sore Throat', 'Headache'],\n",
    "    \"Allergy\": ['Runny nose', 'Sneezing', 'Itchy eyes', 'Watery eyes']\n",
    "}\n",
    "\n",
    "# initialize match result for all sicknesses\n",
    "match_result_array = [0] * 100\n",
    "\n",
    "# iterate through each symptom in each disease \n",
    "match_disease_index = 0 \n",
    "max_match_result = 0 \n",
    "max_match_result_disease = \"\"\n",
    "for key, values in sickness_database.items():\n",
    "    for value in values:\n",
    "        for i in user_symptoms:\n",
    "            symptom = symptoms_database[i]\n",
    "            if value == symptom:\n",
    "                #j --> disease\n",
    "                match_result_array[match_disease_index] = match_result_array[match_disease_index] + 1 \n",
    "                break\n",
    "    #check next sickness\n",
    "    if match_result_array[match_disease_index] > max_match_result:\n",
    "        max_match_result = match_result_array[match_disease_index]\n",
    "        max_match_result_disease = key\n",
    "    match_disease_index = match_disease_index + 1\n",
    "\n",
    "print(\"Based on your current symptoms, your mostly likely sickness is the \" + max_match_result_disease + \".\")\n",
    "\n"
   ]
  }
 ],
 "metadata": {
  "kernelspec": {
   "display_name": "Python 3.8.10 64-bit",
   "language": "python",
   "name": "python3"
  },
  "language_info": {
   "codemirror_mode": {
    "name": "ipython",
    "version": 3
   },
   "file_extension": ".py",
   "mimetype": "text/x-python",
   "name": "python",
   "nbconvert_exporter": "python",
   "pygments_lexer": "ipython3",
   "version": "3.8.10"
  },
  "orig_nbformat": 4,
  "vscode": {
   "interpreter": {
    "hash": "916dbcbb3f70747c44a77c7bcd40155683ae19c65e1c03b4aa3499c5328201f1"
   }
  }
 },
 "nbformat": 4,
 "nbformat_minor": 2
}
